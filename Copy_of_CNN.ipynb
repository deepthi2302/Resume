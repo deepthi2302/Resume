{
  "cells": [
    {
      "cell_type": "markdown",
      "metadata": {
        "id": "view-in-github",
        "colab_type": "text"
      },
      "source": [
        "<a href=\"https://colab.research.google.com/github/deepthi2302/Resume/blob/main/Copy_of_CNN.ipynb\" target=\"_parent\"><img src=\"https://colab.research.google.com/assets/colab-badge.svg\" alt=\"Open In Colab\"/></a>"
      ]
    },
    {
      "cell_type": "code",
      "execution_count": null,
      "metadata": {
        "colab": {
          "background_save": true,
          "base_uri": "https://localhost:8080/"
        },
        "id": "dGTQB8-j4CjO",
        "outputId": "ad21ff10-5b82-4b5b-8310-aef1fc849e08"
      },
      "outputs": [
        {
          "name": "stdout",
          "output_type": "stream",
          "text": [
            "Epoch 1/10\n",
            "1563/1563 [==============================] - 41s 26ms/step - loss: 1.5271 - accuracy: 0.4427 - val_loss: 1.2962 - val_accuracy: 0.5417\n",
            "Epoch 2/10\n",
            "1563/1563 [==============================] - 39s 25ms/step - loss: 1.1636 - accuracy: 0.5904 - val_loss: 1.0630 - val_accuracy: 0.6200\n",
            "Epoch 3/10\n",
            "1563/1563 [==============================] - 39s 25ms/step - loss: 1.0112 - accuracy: 0.6457 - val_loss: 0.9848 - val_accuracy: 0.6481\n",
            "Epoch 4/10\n",
            "1563/1563 [==============================] - 38s 25ms/step - loss: 0.9199 - accuracy: 0.6793 - val_loss: 0.9262 - val_accuracy: 0.6766\n",
            "Epoch 5/10\n",
            "1563/1563 [==============================] - 39s 25ms/step - loss: 0.8477 - accuracy: 0.7008 - val_loss: 0.9281 - val_accuracy: 0.6794\n",
            "Epoch 6/10\n",
            "1563/1563 [==============================] - 38s 24ms/step - loss: 0.7917 - accuracy: 0.7222 - val_loss: 0.9138 - val_accuracy: 0.6796\n",
            "Epoch 7/10\n",
            "1563/1563 [==============================] - 39s 25ms/step - loss: 0.7436 - accuracy: 0.7404 - val_loss: 0.8512 - val_accuracy: 0.7117\n",
            "Epoch 8/10\n",
            "1563/1563 [==============================] - 39s 25ms/step - loss: 0.7030 - accuracy: 0.7533 - val_loss: 0.9196 - val_accuracy: 0.6901\n",
            "Epoch 9/10\n",
            "1563/1563 [==============================] - 39s 25ms/step - loss: 0.6661 - accuracy: 0.7640 - val_loss: 0.8756 - val_accuracy: 0.7067\n",
            "Epoch 10/10\n",
            "1563/1563 [==============================] - 38s 24ms/step - loss: 0.6319 - accuracy: 0.7775 - val_loss: 0.8720 - val_accuracy: 0.7094\n"
          ]
        }
      ],
      "source": [
        "import matplotlib.pyplot as plt\n",
        "import tensorflow as tf\n",
        "from tensorflow.keras import datasets, layers, models\n",
        "from sklearn.metrics import classification_report\n",
        "\n",
        "# Load and preprocess the dataset (example using CIFAR-10)\n",
        "(train_images, train_labels), (test_images, test_labels) = datasets.cifar10.load_data()\n",
        "train_images, test_images = train_images / 255.0, test_images / 255.0\n",
        "\n",
        "# Define the CNN model\n",
        "def create_cnn_model(input_shape, num_classes):\n",
        "    model = models.Sequential()\n",
        "\n",
        "    # Convolutional layers\n",
        "    model.add(layers.Conv2D(32, (3, 3), activation='relu', input_shape=input_shape))\n",
        "    model.add(layers.MaxPooling2D((2, 2)))\n",
        "    model.add(layers.Conv2D(64, (3, 3), activation='relu'))\n",
        "    model.add(layers.MaxPooling2D((2, 2)))\n",
        "    model.add(layers.Conv2D(64, (3, 3), activation='relu'))\n",
        "\n",
        "    # Dense layers\n",
        "    model.add(layers.Flatten())\n",
        "    model.add(layers.Dense(64, activation='relu'))\n",
        "    model.add(layers.Dense(num_classes, activation='softmax'))\n",
        "\n",
        "    return model\n",
        "\n",
        "# Specify input shape and number of classes\n",
        "input_shape = train_images.shape[1:]\n",
        "num_classes = 10  # CIFAR-10 has 10 classes\n",
        "\n",
        "# Create the model\n",
        "model = create_cnn_model(input_shape, num_classes)\n",
        "\n",
        "# Compile the model\n",
        "model.compile(optimizer='adam',\n",
        "              loss='sparse_categorical_crossentropy',\n",
        "              metrics=['accuracy'])\n",
        "\n",
        "# Train the model\n",
        "history = model.fit(train_images, train_labels, epochs=10,\n",
        "                    validation_data=(test_images, test_labels))\n"
      ]
    }
  ],
  "metadata": {
    "colab": {
      "provenance": [],
      "authorship_tag": "ABX9TyPoD8nmw/JlwBKAjyChHCVQ",
      "include_colab_link": true
    },
    "kernelspec": {
      "display_name": "Python 3",
      "name": "python3"
    },
    "language_info": {
      "name": "python"
    }
  },
  "nbformat": 4,
  "nbformat_minor": 0
}